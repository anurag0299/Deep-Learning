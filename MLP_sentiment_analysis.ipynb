{
 "cells": [
  {
   "cell_type": "markdown",
   "metadata": {
    "id": "Hh8wNcnV2TJd"
   },
   "source": [
    "### MLP USECASE :Sentiment Analysis\n",
    "**Data Formatting**\n",
    "\n",
    "Text Data --> Feature Extraction ---> Word Embeddings --> Deep Learning Models."
   ]
  },
  {
   "cell_type": "code",
   "execution_count": null,
   "metadata": {
    "id": "m5odbziW1fVc"
   },
   "outputs": [],
   "source": [
    "import numpy as np # linear algebra\n",
    "import pandas as pd # data processing, CSV file I/O (e.g. pd.read_csv)\n",
    "import matplotlib.pyplot as plt\n",
    "\n",
    "from sklearn.feature_extraction.text import CountVectorizer\n",
    "from sklearn.model_selection import train_test_split\n",
    "from sklearn.linear_model import LogisticRegression\n",
    "from sklearn.preprocessing import LabelEncoder\n",
    "from sklearn.preprocessing import OneHotEncoder\n",
    "from sklearn.model_selection import RandomizedSearchCV\n",
    "\n",
    "import tensorflow as tf\n",
    "from tensorflow.keras.models import Sequential\n",
    "from tensorflow.keras import layers\n",
    "from tensorflow.keras.preprocessing.text import Tokenizer\n",
    "from tensorflow.keras.preprocessing.sequence import pad_sequences\n",
    "from tensorflow.keras.wrappers.scikit_learn import KerasClassifier\n",
    "\n",
    "import os\n",
    "# print(os.listdir(\"../input\"))\n",
    "plt.style.use('ggplot')"
   ]
  },
  {
   "cell_type": "markdown",
   "metadata": {
    "id": "br6WEXOb7n00"
   },
   "source": [
    "## **Data**\n",
    "\n",
    "Download data from [here](https://archive.ics.uci.edu/ml/datasets/Sentiment+Labelled+Sentences). This dataset consist of labelled reviews from Amazon, IMDB and Yelp. Each review is labelled with 0 for a negative sentiment and 1 for a positive sentiment."
   ]
  },
  {
   "cell_type": "code",
   "execution_count": 1,
   "metadata": {
    "colab": {
     "base_uri": "https://localhost:8080/"
    },
    "id": "buXgitJm7OMD",
    "outputId": "ffb4859b-3271-4bb1-8c54-3c41f2277b26"
   },
   "outputs": [
    {
     "name": "stdout",
     "output_type": "stream",
     "text": [
      "                                            sentence  label source\n",
      "0                           Wow... Loved this place.      1   yelp\n",
      "1                                 Crust is not good.      0   yelp\n",
      "2          Not tasty and the texture was just nasty.      0   yelp\n",
      "3  Stopped by during the late May bank holiday of...      1   yelp\n",
      "4  The selection on the menu was great and so wer...      1   yelp\n"
     ]
    }
   ],
   "source": [
    "#Load data using Pandas\n",
    "import pandas as pd\n",
    "\n",
    "filepath_dict = {'yelp':   'sentiment labelled sentences/yelp_labelled.txt',\n",
    "                 'amazon': 'sentiment labelled sentences/amazon_cells_labelled.txt',\n",
    "                 'imdb':   'sentiment labelled sentences/imdb_labelled.txt'}\n",
    "\n",
    "df_list = []\n",
    "for source, filepath in filepath_dict.items():\n",
    "    df = pd.read_csv(filepath, names=['sentence', 'label'], sep='\\t')\n",
    "    df['source'] = source  # Add another column filled with the source name\n",
    "    df_list.append(df)\n",
    "\n",
    "df = pd.concat(df_list)\n",
    "print(df.iloc[0:5])"
   ]
  },
  {
   "cell_type": "code",
   "execution_count": null,
   "metadata": {
    "colab": {
     "base_uri": "https://localhost:8080/",
     "height": 213
    },
    "id": "RGa_b1INCO5I",
    "outputId": "59301f6c-d8c8-4a3b-ff23-dacb15d94692"
   },
   "outputs": [
    {
     "data": {
      "text/html": [
       "\n",
       "  <div id=\"df-6e9d625e-871d-43eb-a2ad-090938acc95c\">\n",
       "    <div class=\"colab-df-container\">\n",
       "      <div>\n",
       "<style scoped>\n",
       "    .dataframe tbody tr th:only-of-type {\n",
       "        vertical-align: middle;\n",
       "    }\n",
       "\n",
       "    .dataframe tbody tr th {\n",
       "        vertical-align: top;\n",
       "    }\n",
       "\n",
       "    .dataframe thead th {\n",
       "        text-align: right;\n",
       "    }\n",
       "</style>\n",
       "<table border=\"1\" class=\"dataframe\">\n",
       "  <thead>\n",
       "    <tr style=\"text-align: right;\">\n",
       "      <th></th>\n",
       "      <th>sentence</th>\n",
       "      <th>label</th>\n",
       "      <th>source</th>\n",
       "    </tr>\n",
       "  </thead>\n",
       "  <tbody>\n",
       "    <tr>\n",
       "      <th>0</th>\n",
       "      <td>Wow... Loved this place.</td>\n",
       "      <td>1</td>\n",
       "      <td>yelp</td>\n",
       "    </tr>\n",
       "    <tr>\n",
       "      <th>1</th>\n",
       "      <td>Crust is not good.</td>\n",
       "      <td>0</td>\n",
       "      <td>yelp</td>\n",
       "    </tr>\n",
       "    <tr>\n",
       "      <th>2</th>\n",
       "      <td>Not tasty and the texture was just nasty.</td>\n",
       "      <td>0</td>\n",
       "      <td>yelp</td>\n",
       "    </tr>\n",
       "    <tr>\n",
       "      <th>3</th>\n",
       "      <td>Stopped by during the late May bank holiday of...</td>\n",
       "      <td>1</td>\n",
       "      <td>yelp</td>\n",
       "    </tr>\n",
       "    <tr>\n",
       "      <th>4</th>\n",
       "      <td>The selection on the menu was great and so wer...</td>\n",
       "      <td>1</td>\n",
       "      <td>yelp</td>\n",
       "    </tr>\n",
       "  </tbody>\n",
       "</table>\n",
       "</div>\n",
       "      <button class=\"colab-df-convert\" onclick=\"convertToInteractive('df-6e9d625e-871d-43eb-a2ad-090938acc95c')\"\n",
       "              title=\"Convert this dataframe to an interactive table.\"\n",
       "              style=\"display:none;\">\n",
       "        \n",
       "  <svg xmlns=\"http://www.w3.org/2000/svg\" height=\"24px\"viewBox=\"0 0 24 24\"\n",
       "       width=\"24px\">\n",
       "    <path d=\"M0 0h24v24H0V0z\" fill=\"none\"/>\n",
       "    <path d=\"M18.56 5.44l.94 2.06.94-2.06 2.06-.94-2.06-.94-.94-2.06-.94 2.06-2.06.94zm-11 1L8.5 8.5l.94-2.06 2.06-.94-2.06-.94L8.5 2.5l-.94 2.06-2.06.94zm10 10l.94 2.06.94-2.06 2.06-.94-2.06-.94-.94-2.06-.94 2.06-2.06.94z\"/><path d=\"M17.41 7.96l-1.37-1.37c-.4-.4-.92-.59-1.43-.59-.52 0-1.04.2-1.43.59L10.3 9.45l-7.72 7.72c-.78.78-.78 2.05 0 2.83L4 21.41c.39.39.9.59 1.41.59.51 0 1.02-.2 1.41-.59l7.78-7.78 2.81-2.81c.8-.78.8-2.07 0-2.86zM5.41 20L4 18.59l7.72-7.72 1.47 1.35L5.41 20z\"/>\n",
       "  </svg>\n",
       "      </button>\n",
       "      \n",
       "  <style>\n",
       "    .colab-df-container {\n",
       "      display:flex;\n",
       "      flex-wrap:wrap;\n",
       "      gap: 12px;\n",
       "    }\n",
       "\n",
       "    .colab-df-convert {\n",
       "      background-color: #E8F0FE;\n",
       "      border: none;\n",
       "      border-radius: 50%;\n",
       "      cursor: pointer;\n",
       "      display: none;\n",
       "      fill: #1967D2;\n",
       "      height: 32px;\n",
       "      padding: 0 0 0 0;\n",
       "      width: 32px;\n",
       "    }\n",
       "\n",
       "    .colab-df-convert:hover {\n",
       "      background-color: #E2EBFA;\n",
       "      box-shadow: 0px 1px 2px rgba(60, 64, 67, 0.3), 0px 1px 3px 1px rgba(60, 64, 67, 0.15);\n",
       "      fill: #174EA6;\n",
       "    }\n",
       "\n",
       "    [theme=dark] .colab-df-convert {\n",
       "      background-color: #3B4455;\n",
       "      fill: #D2E3FC;\n",
       "    }\n",
       "\n",
       "    [theme=dark] .colab-df-convert:hover {\n",
       "      background-color: #434B5C;\n",
       "      box-shadow: 0px 1px 3px 1px rgba(0, 0, 0, 0.15);\n",
       "      filter: drop-shadow(0px 1px 2px rgba(0, 0, 0, 0.3));\n",
       "      fill: #FFFFFF;\n",
       "    }\n",
       "  </style>\n",
       "\n",
       "      <script>\n",
       "        const buttonEl =\n",
       "          document.querySelector('#df-6e9d625e-871d-43eb-a2ad-090938acc95c button.colab-df-convert');\n",
       "        buttonEl.style.display =\n",
       "          google.colab.kernel.accessAllowed ? 'block' : 'none';\n",
       "\n",
       "        async function convertToInteractive(key) {\n",
       "          const element = document.querySelector('#df-6e9d625e-871d-43eb-a2ad-090938acc95c');\n",
       "          const dataTable =\n",
       "            await google.colab.kernel.invokeFunction('convertToInteractive',\n",
       "                                                     [key], {});\n",
       "          if (!dataTable) return;\n",
       "\n",
       "          const docLinkHtml = 'Like what you see? Visit the ' +\n",
       "            '<a target=\"_blank\" href=https://colab.research.google.com/notebooks/data_table.ipynb>data table notebook</a>'\n",
       "            + ' to learn more about interactive tables.';\n",
       "          element.innerHTML = '';\n",
       "          dataTable['output_type'] = 'display_data';\n",
       "          await google.colab.output.renderOutput(dataTable, element);\n",
       "          const docLink = document.createElement('div');\n",
       "          docLink.innerHTML = docLinkHtml;\n",
       "          element.appendChild(docLink);\n",
       "        }\n",
       "      </script>\n",
       "    </div>\n",
       "  </div>\n",
       "  "
      ],
      "text/plain": [
       "                                            sentence  label source\n",
       "0                           Wow... Loved this place.      1   yelp\n",
       "1                                 Crust is not good.      0   yelp\n",
       "2          Not tasty and the texture was just nasty.      0   yelp\n",
       "3  Stopped by during the late May bank holiday of...      1   yelp\n",
       "4  The selection on the menu was great and so wer...      1   yelp"
      ]
     },
     "execution_count": 3,
     "metadata": {},
     "output_type": "execute_result"
    }
   ],
   "source": [
    "df.head()"
   ]
  },
  {
   "cell_type": "code",
   "execution_count": null,
   "metadata": {
    "colab": {
     "base_uri": "https://localhost:8080/",
     "height": 213
    },
    "id": "do-MWy8gCWG4",
    "outputId": "8bd71a16-ba20-43c5-f029-2b2a27a0e43e"
   },
   "outputs": [
    {
     "data": {
      "text/html": [
       "\n",
       "  <div id=\"df-34331c3c-d7a0-4144-8a28-54af40d4a531\">\n",
       "    <div class=\"colab-df-container\">\n",
       "      <div>\n",
       "<style scoped>\n",
       "    .dataframe tbody tr th:only-of-type {\n",
       "        vertical-align: middle;\n",
       "    }\n",
       "\n",
       "    .dataframe tbody tr th {\n",
       "        vertical-align: top;\n",
       "    }\n",
       "\n",
       "    .dataframe thead th {\n",
       "        text-align: right;\n",
       "    }\n",
       "</style>\n",
       "<table border=\"1\" class=\"dataframe\">\n",
       "  <thead>\n",
       "    <tr style=\"text-align: right;\">\n",
       "      <th></th>\n",
       "      <th>sentence</th>\n",
       "      <th>label</th>\n",
       "      <th>source</th>\n",
       "    </tr>\n",
       "  </thead>\n",
       "  <tbody>\n",
       "    <tr>\n",
       "      <th>743</th>\n",
       "      <td>I just got bored watching Jessice Lange take h...</td>\n",
       "      <td>0</td>\n",
       "      <td>imdb</td>\n",
       "    </tr>\n",
       "    <tr>\n",
       "      <th>744</th>\n",
       "      <td>Unfortunately, any virtue in this film's produ...</td>\n",
       "      <td>0</td>\n",
       "      <td>imdb</td>\n",
       "    </tr>\n",
       "    <tr>\n",
       "      <th>745</th>\n",
       "      <td>In a word, it is embarrassing.</td>\n",
       "      <td>0</td>\n",
       "      <td>imdb</td>\n",
       "    </tr>\n",
       "    <tr>\n",
       "      <th>746</th>\n",
       "      <td>Exceptionally bad!</td>\n",
       "      <td>0</td>\n",
       "      <td>imdb</td>\n",
       "    </tr>\n",
       "    <tr>\n",
       "      <th>747</th>\n",
       "      <td>All in all its an insult to one's intelligence...</td>\n",
       "      <td>0</td>\n",
       "      <td>imdb</td>\n",
       "    </tr>\n",
       "  </tbody>\n",
       "</table>\n",
       "</div>\n",
       "      <button class=\"colab-df-convert\" onclick=\"convertToInteractive('df-34331c3c-d7a0-4144-8a28-54af40d4a531')\"\n",
       "              title=\"Convert this dataframe to an interactive table.\"\n",
       "              style=\"display:none;\">\n",
       "        \n",
       "  <svg xmlns=\"http://www.w3.org/2000/svg\" height=\"24px\"viewBox=\"0 0 24 24\"\n",
       "       width=\"24px\">\n",
       "    <path d=\"M0 0h24v24H0V0z\" fill=\"none\"/>\n",
       "    <path d=\"M18.56 5.44l.94 2.06.94-2.06 2.06-.94-2.06-.94-.94-2.06-.94 2.06-2.06.94zm-11 1L8.5 8.5l.94-2.06 2.06-.94-2.06-.94L8.5 2.5l-.94 2.06-2.06.94zm10 10l.94 2.06.94-2.06 2.06-.94-2.06-.94-.94-2.06-.94 2.06-2.06.94z\"/><path d=\"M17.41 7.96l-1.37-1.37c-.4-.4-.92-.59-1.43-.59-.52 0-1.04.2-1.43.59L10.3 9.45l-7.72 7.72c-.78.78-.78 2.05 0 2.83L4 21.41c.39.39.9.59 1.41.59.51 0 1.02-.2 1.41-.59l7.78-7.78 2.81-2.81c.8-.78.8-2.07 0-2.86zM5.41 20L4 18.59l7.72-7.72 1.47 1.35L5.41 20z\"/>\n",
       "  </svg>\n",
       "      </button>\n",
       "      \n",
       "  <style>\n",
       "    .colab-df-container {\n",
       "      display:flex;\n",
       "      flex-wrap:wrap;\n",
       "      gap: 12px;\n",
       "    }\n",
       "\n",
       "    .colab-df-convert {\n",
       "      background-color: #E8F0FE;\n",
       "      border: none;\n",
       "      border-radius: 50%;\n",
       "      cursor: pointer;\n",
       "      display: none;\n",
       "      fill: #1967D2;\n",
       "      height: 32px;\n",
       "      padding: 0 0 0 0;\n",
       "      width: 32px;\n",
       "    }\n",
       "\n",
       "    .colab-df-convert:hover {\n",
       "      background-color: #E2EBFA;\n",
       "      box-shadow: 0px 1px 2px rgba(60, 64, 67, 0.3), 0px 1px 3px 1px rgba(60, 64, 67, 0.15);\n",
       "      fill: #174EA6;\n",
       "    }\n",
       "\n",
       "    [theme=dark] .colab-df-convert {\n",
       "      background-color: #3B4455;\n",
       "      fill: #D2E3FC;\n",
       "    }\n",
       "\n",
       "    [theme=dark] .colab-df-convert:hover {\n",
       "      background-color: #434B5C;\n",
       "      box-shadow: 0px 1px 3px 1px rgba(0, 0, 0, 0.15);\n",
       "      filter: drop-shadow(0px 1px 2px rgba(0, 0, 0, 0.3));\n",
       "      fill: #FFFFFF;\n",
       "    }\n",
       "  </style>\n",
       "\n",
       "      <script>\n",
       "        const buttonEl =\n",
       "          document.querySelector('#df-34331c3c-d7a0-4144-8a28-54af40d4a531 button.colab-df-convert');\n",
       "        buttonEl.style.display =\n",
       "          google.colab.kernel.accessAllowed ? 'block' : 'none';\n",
       "\n",
       "        async function convertToInteractive(key) {\n",
       "          const element = document.querySelector('#df-34331c3c-d7a0-4144-8a28-54af40d4a531');\n",
       "          const dataTable =\n",
       "            await google.colab.kernel.invokeFunction('convertToInteractive',\n",
       "                                                     [key], {});\n",
       "          if (!dataTable) return;\n",
       "\n",
       "          const docLinkHtml = 'Like what you see? Visit the ' +\n",
       "            '<a target=\"_blank\" href=https://colab.research.google.com/notebooks/data_table.ipynb>data table notebook</a>'\n",
       "            + ' to learn more about interactive tables.';\n",
       "          element.innerHTML = '';\n",
       "          dataTable['output_type'] = 'display_data';\n",
       "          await google.colab.output.renderOutput(dataTable, element);\n",
       "          const docLink = document.createElement('div');\n",
       "          docLink.innerHTML = docLinkHtml;\n",
       "          element.appendChild(docLink);\n",
       "        }\n",
       "      </script>\n",
       "    </div>\n",
       "  </div>\n",
       "  "
      ],
      "text/plain": [
       "                                              sentence  label source\n",
       "743  I just got bored watching Jessice Lange take h...      0   imdb\n",
       "744  Unfortunately, any virtue in this film's produ...      0   imdb\n",
       "745                   In a word, it is embarrassing.        0   imdb\n",
       "746                               Exceptionally bad!        0   imdb\n",
       "747  All in all its an insult to one's intelligence...      0   imdb"
      ]
     },
     "execution_count": 4,
     "metadata": {},
     "output_type": "execute_result"
    }
   ],
   "source": [
    "df.tail()"
   ]
  },
  {
   "cell_type": "markdown",
   "metadata": {
    "id": "8Uga-Gul8iQR"
   },
   "source": [
    "## **Feature Extraction(Bag of Words)**\n",
    "The text data can not be fed in to a neural network in it's actual form.We need to extrcat features (numerical representation) to represent the information.\n",
    "\n",
    "*   Count the frequency of each word in each sentence and tie this count back to the entire set of words in the data set. The collection of texts is  called a **corpus** in NLP. The vocabulary in this case is a list of words that occurred in our text where each word has its own index. \n",
    "*   Take the sentence to vectorize, and count each occurrence in the vocabulary. The resulting vector will be with the length of the vocabulary and a count for each word in the vocabulary. The resulting vector is also called a **feature vector**. \n",
    "\n",
    "Vocabulary: Set all the unique words in the sentences.\n",
    "\n"
   ]
  },
  {
   "cell_type": "code",
   "execution_count": null,
   "metadata": {
    "colab": {
     "base_uri": "https://localhost:8080/"
    },
    "id": "mFbPEZhH8Yf1",
    "outputId": "51b6960f-4533-4170-fbd5-d6a38ceb3ae3"
   },
   "outputs": [
    {
     "data": {
      "text/plain": [
       "{'John': 0, 'chocolate': 1, 'cream': 2, 'hates': 3, 'ice': 4, 'likes': 5}"
      ]
     },
     "execution_count": 5,
     "metadata": {},
     "output_type": "execute_result"
    }
   ],
   "source": [
    "sentences = ['John likes ice cream', 'John hates chocolate.']\n",
    "from sklearn.feature_extraction.text import CountVectorizer\n",
    "vectorizer = CountVectorizer(min_df=0, lowercase=False)\n",
    "vectorizer.fit(sentences)\n",
    "vectorizer.vocabulary_\n"
   ]
  },
  {
   "cell_type": "code",
   "execution_count": null,
   "metadata": {
    "colab": {
     "base_uri": "https://localhost:8080/"
    },
    "id": "aPE7cnvkBrSN",
    "outputId": "39c6863a-92db-462f-87ef-c7eef98114eb"
   },
   "outputs": [
    {
     "data": {
      "text/plain": [
       "array([[1, 0, 1, 0, 1, 1],\n",
       "       [1, 1, 0, 1, 0, 0]])"
      ]
     },
     "execution_count": 6,
     "metadata": {},
     "output_type": "execute_result"
    }
   ],
   "source": [
    "vectorizer.transform(sentences).toarray()"
   ]
  },
  {
   "cell_type": "code",
   "execution_count": null,
   "metadata": {
    "colab": {
     "base_uri": "https://localhost:8080/"
    },
    "id": "aG460BhtBwq-",
    "outputId": "b7a7d3f5-2f23-490d-d59f-ceb9a29b7117"
   },
   "outputs": [
    {
     "data": {
      "text/plain": [
       "{'John': 0,\n",
       " 'Mary': 1,\n",
       " 'also': 2,\n",
       " 'football': 3,\n",
       " 'games': 4,\n",
       " 'holidays': 5,\n",
       " 'likes': 6,\n",
       " 'love': 7,\n",
       " 'movies': 8,\n",
       " 'to': 9,\n",
       " 'too': 10,\n",
       " 'watch': 11}"
      ]
     },
     "execution_count": 7,
     "metadata": {},
     "output_type": "execute_result"
    }
   ],
   "source": [
    "sentences = ['Mary also likes to watch football games.', 'John likes to watch movies. Mary likes movies too.', 'I love holidays']\n",
    "from sklearn.feature_extraction.text import CountVectorizer\n",
    "vectorizer = CountVectorizer(min_df=0, lowercase=False)\n",
    "vectorizer.fit(sentences)\n",
    "vectorizer.vocabulary_"
   ]
  },
  {
   "cell_type": "code",
   "execution_count": null,
   "metadata": {
    "colab": {
     "base_uri": "https://localhost:8080/"
    },
    "id": "26JebOaNCxXy",
    "outputId": "5aae38c2-318d-45e1-9481-9ff439f46081"
   },
   "outputs": [
    {
     "data": {
      "text/plain": [
       "array([[0, 1, 1, 1, 1, 0, 1, 0, 0, 1, 0, 1],\n",
       "       [1, 1, 0, 0, 0, 0, 2, 0, 2, 1, 1, 1],\n",
       "       [0, 0, 0, 0, 0, 1, 0, 1, 0, 0, 0, 0]])"
      ]
     },
     "execution_count": 8,
     "metadata": {},
     "output_type": "execute_result"
    }
   ],
   "source": [
    "vectorizer.transform(sentences).toarray()"
   ]
  },
  {
   "cell_type": "markdown",
   "metadata": {
    "id": "9pZTacAaDybJ"
   },
   "source": [
    "### **Dataset Splitup**\n",
    "\n",
    "Take the Amazon dataset and and seperate the sentences and labels and do train-test split."
   ]
  },
  {
   "cell_type": "code",
   "execution_count": null,
   "metadata": {
    "id": "FWM4mGIMC1Me"
   },
   "outputs": [],
   "source": [
    "df_amazon= df[df['source'] == 'amazon']\n",
    "sentences = df_amazon['sentence'].values\n",
    "y = df_amazon['label'].values\n",
    "\n",
    "sentences_train, sentences_test, y_train, y_test = train_test_split(sentences, y, test_size=0.25, random_state=1000)"
   ]
  },
  {
   "cell_type": "markdown",
   "metadata": {
    "id": "eiebR_HNDjMM"
   },
   "source": [
    "Create the feature vectors for each sentence of the training and testing set using CountVectorizer:"
   ]
  },
  {
   "cell_type": "code",
   "execution_count": null,
   "metadata": {
    "colab": {
     "base_uri": "https://localhost:8080/"
    },
    "id": "bJlnEjm5DgsT",
    "outputId": "06e3b255-a1eb-4a90-9411-9fa5468fd0af"
   },
   "outputs": [
    {
     "name": "stdout",
     "output_type": "stream",
     "text": [
      "(1000,)\n"
     ]
    }
   ],
   "source": [
    "vectorizer = CountVectorizer()\n",
    "vectorizer.fit(sentences_train)\n",
    "\n",
    "X_train = vectorizer.transform(sentences_train)\n",
    "X_test  = vectorizer.transform(sentences_test)\n",
    "print(y.shape)"
   ]
  },
  {
   "cell_type": "code",
   "execution_count": null,
   "metadata": {
    "colab": {
     "base_uri": "https://localhost:8080/"
    },
    "id": "gvjwSlc0DlYJ",
    "outputId": "88bef374-6af3-44f8-cb01-8ce71ae07543"
   },
   "outputs": [
    {
     "name": "stdout",
     "output_type": "stream",
     "text": [
      "Train set size: (750, 1546)\n",
      "Test set size: (250, 1546)\n"
     ]
    }
   ],
   "source": [
    "print(\"Train set size: {}\".format(X_train.shape))\n",
    "print(\"Test set size: {}\".format(X_test.shape))\n"
   ]
  },
  {
   "cell_type": "markdown",
   "metadata": {
    "id": "ni-LF4a2J6yR"
   },
   "source": [
    "### **Label Encoding** "
   ]
  },
  {
   "cell_type": "code",
   "execution_count": null,
   "metadata": {
    "id": "w0AO4ynhvsOB"
   },
   "outputs": [],
   "source": [
    "from tensorflow.keras.utils import to_categorical\n",
    "# converting y data into categorical (one-hot encoding)\n",
    "y_train = to_categorical(y_train)\n",
    "y_test = to_categorical(y_test)"
   ]
  },
  {
   "cell_type": "markdown",
   "metadata": {
    "id": "FLbt3K2PJ-8J"
   },
   "source": [
    "### **Model Building** "
   ]
  },
  {
   "cell_type": "code",
   "execution_count": null,
   "metadata": {
    "id": "KsqAH9FfEZog"
   },
   "outputs": [],
   "source": [
    "import tensorflow as tf\n",
    "from tensorflow import keras\n",
    "from keras import models\n",
    "from keras.layers import Dense, Activation, BatchNormalization,Dropout"
   ]
  },
  {
   "cell_type": "code",
   "execution_count": null,
   "metadata": {
    "id": "aMg8Ct7PFnKK"
   },
   "outputs": [],
   "source": [
    "model=Sequential()\n",
    "model.add(Dense(512,input_shape=(X_train.shape[1],),activation='sigmoid'))\n",
    "model.add(Dropout(0.2))  \n",
    "model.add(BatchNormalization())\n",
    "model.add(Dense(256,activation='sigmoid'))\n",
    "model.add(Dropout(0.2))  \n",
    "model.add(BatchNormalization())\n",
    "model.add(Dense(256,activation='sigmoid'))\n",
    "model.add(Dropout(0.2))  \n",
    "model.add(BatchNormalization())\n",
    "model.add(Dense(256,activation='sigmoid'))\n",
    "model.add(Dropout(0.2))  \n",
    "model.add(BatchNormalization())\n",
    "model.add(Dense(2,activation='softmax'))"
   ]
  },
  {
   "cell_type": "code",
   "execution_count": null,
   "metadata": {
    "colab": {
     "base_uri": "https://localhost:8080/"
    },
    "id": "dqQvfxDeF0ol",
    "outputId": "6ab70a24-6e7a-4961-f290-8108716dbb5e"
   },
   "outputs": [
    {
     "name": "stdout",
     "output_type": "stream",
     "text": [
      "Model: \"sequential_16\"\n",
      "_________________________________________________________________\n",
      " Layer (type)                Output Shape              Param #   \n",
      "=================================================================\n",
      " dense_44 (Dense)            (None, 512)               792064    \n",
      "                                                                 \n",
      " dropout_32 (Dropout)        (None, 512)               0         \n",
      "                                                                 \n",
      " batch_normalization_33 (Bat  (None, 512)              2048      \n",
      " chNormalization)                                                \n",
      "                                                                 \n",
      " dense_45 (Dense)            (None, 256)               131328    \n",
      "                                                                 \n",
      " dropout_33 (Dropout)        (None, 256)               0         \n",
      "                                                                 \n",
      " batch_normalization_34 (Bat  (None, 256)              1024      \n",
      " chNormalization)                                                \n",
      "                                                                 \n",
      " dense_46 (Dense)            (None, 256)               65792     \n",
      "                                                                 \n",
      " dropout_34 (Dropout)        (None, 256)               0         \n",
      "                                                                 \n",
      " batch_normalization_35 (Bat  (None, 256)              1024      \n",
      " chNormalization)                                                \n",
      "                                                                 \n",
      " dense_47 (Dense)            (None, 256)               65792     \n",
      "                                                                 \n",
      " dropout_35 (Dropout)        (None, 256)               0         \n",
      "                                                                 \n",
      " batch_normalization_36 (Bat  (None, 256)              1024      \n",
      " chNormalization)                                                \n",
      "                                                                 \n",
      " dense_48 (Dense)            (None, 2)                 514       \n",
      "                                                                 \n",
      "=================================================================\n",
      "Total params: 1,060,610\n",
      "Trainable params: 1,058,050\n",
      "Non-trainable params: 2,560\n",
      "_________________________________________________________________\n"
     ]
    }
   ],
   "source": [
    "model.summary()"
   ]
  },
  {
   "cell_type": "code",
   "execution_count": null,
   "metadata": {
    "id": "o90Yy4ppt3tj"
   },
   "outputs": [],
   "source": [
    "model.compile(optimizer=tf.keras.optimizers.Adam(learning_rate=0.001),loss='binary_crossentropy',metrics=['accuracy'])"
   ]
  },
  {
   "cell_type": "code",
   "execution_count": null,
   "metadata": {
    "colab": {
     "base_uri": "https://localhost:8080/"
    },
    "id": "Y1_peRNqu1Fl",
    "outputId": "f1607c33-2a19-4d5f-fdec-8acac0cbb193"
   },
   "outputs": [
    {
     "name": "stdout",
     "output_type": "stream",
     "text": [
      "Epoch 1/100\n"
     ]
    },
    {
     "name": "stderr",
     "output_type": "stream",
     "text": [
      "/usr/local/lib/python3.7/dist-packages/tensorflow/python/framework/indexed_slices.py:446: UserWarning: Converting sparse IndexedSlices(IndexedSlices(indices=Tensor(\"gradient_tape/sequential_16/dense_44/embedding_lookup_sparse/Reshape_1:0\", shape=(None,), dtype=int32), values=Tensor(\"gradient_tape/sequential_16/dense_44/embedding_lookup_sparse/Reshape:0\", shape=(None, 512), dtype=float32), dense_shape=Tensor(\"gradient_tape/sequential_16/dense_44/embedding_lookup_sparse/Cast:0\", shape=(2,), dtype=int32))) to a dense Tensor of unknown shape. This may consume a large amount of memory.\n",
      "  \"shape. This may consume a large amount of memory.\" % value)\n"
     ]
    },
    {
     "name": "stdout",
     "output_type": "stream",
     "text": [
      "24/24 [==============================] - 2s 15ms/step - loss: 0.9018 - accuracy: 0.5080\n",
      "Epoch 2/100\n",
      "24/24 [==============================] - 0s 14ms/step - loss: 0.8445 - accuracy: 0.5413\n",
      "Epoch 3/100\n",
      "24/24 [==============================] - 0s 14ms/step - loss: 0.6942 - accuracy: 0.6493\n",
      "Epoch 4/100\n",
      "24/24 [==============================] - 0s 15ms/step - loss: 0.5418 - accuracy: 0.7533\n",
      "Epoch 5/100\n",
      "24/24 [==============================] - 0s 14ms/step - loss: 0.4402 - accuracy: 0.8160\n",
      "Epoch 6/100\n",
      "24/24 [==============================] - 0s 15ms/step - loss: 0.3437 - accuracy: 0.8600\n",
      "Epoch 7/100\n",
      "24/24 [==============================] - 0s 14ms/step - loss: 0.3077 - accuracy: 0.8840\n",
      "Epoch 8/100\n",
      "24/24 [==============================] - 0s 14ms/step - loss: 0.2517 - accuracy: 0.9067\n",
      "Epoch 9/100\n",
      "24/24 [==============================] - 0s 14ms/step - loss: 0.2133 - accuracy: 0.9187\n",
      "Epoch 10/100\n",
      "24/24 [==============================] - 0s 15ms/step - loss: 0.2231 - accuracy: 0.9200\n",
      "Epoch 11/100\n",
      "24/24 [==============================] - 0s 15ms/step - loss: 0.1502 - accuracy: 0.9480\n",
      "Epoch 12/100\n",
      "24/24 [==============================] - 0s 15ms/step - loss: 0.1673 - accuracy: 0.9413\n",
      "Epoch 13/100\n",
      "24/24 [==============================] - 0s 14ms/step - loss: 0.1343 - accuracy: 0.9493\n",
      "Epoch 14/100\n",
      "24/24 [==============================] - 0s 15ms/step - loss: 0.1224 - accuracy: 0.9493\n",
      "Epoch 15/100\n",
      "24/24 [==============================] - 0s 14ms/step - loss: 0.1392 - accuracy: 0.9573\n",
      "Epoch 16/100\n",
      "24/24 [==============================] - 0s 15ms/step - loss: 0.1075 - accuracy: 0.9600\n",
      "Epoch 17/100\n",
      "24/24 [==============================] - 0s 14ms/step - loss: 0.0760 - accuracy: 0.9733\n",
      "Epoch 18/100\n",
      "24/24 [==============================] - 0s 14ms/step - loss: 0.0840 - accuracy: 0.9653\n",
      "Epoch 19/100\n",
      "24/24 [==============================] - 0s 14ms/step - loss: 0.0636 - accuracy: 0.9800\n",
      "Epoch 20/100\n",
      "24/24 [==============================] - 0s 14ms/step - loss: 0.1042 - accuracy: 0.9627\n",
      "Epoch 21/100\n",
      "24/24 [==============================] - 0s 14ms/step - loss: 0.0545 - accuracy: 0.9840\n",
      "Epoch 22/100\n",
      "24/24 [==============================] - 0s 15ms/step - loss: 0.0504 - accuracy: 0.9880\n",
      "Epoch 23/100\n",
      "24/24 [==============================] - 0s 14ms/step - loss: 0.0590 - accuracy: 0.9787\n",
      "Epoch 24/100\n",
      "24/24 [==============================] - 0s 13ms/step - loss: 0.0576 - accuracy: 0.9800\n",
      "Epoch 25/100\n",
      "24/24 [==============================] - 0s 15ms/step - loss: 0.0926 - accuracy: 0.9667\n",
      "Epoch 26/100\n",
      "24/24 [==============================] - 0s 15ms/step - loss: 0.0429 - accuracy: 0.9827\n",
      "Epoch 27/100\n",
      "24/24 [==============================] - 0s 14ms/step - loss: 0.0830 - accuracy: 0.9707\n",
      "Epoch 28/100\n",
      "24/24 [==============================] - 0s 14ms/step - loss: 0.0805 - accuracy: 0.9707\n",
      "Epoch 29/100\n",
      "24/24 [==============================] - 0s 14ms/step - loss: 0.0413 - accuracy: 0.9867\n",
      "Epoch 30/100\n",
      "24/24 [==============================] - 0s 14ms/step - loss: 0.0771 - accuracy: 0.9720\n",
      "Epoch 31/100\n",
      "24/24 [==============================] - 0s 14ms/step - loss: 0.0408 - accuracy: 0.9840\n",
      "Epoch 32/100\n",
      "24/24 [==============================] - 0s 14ms/step - loss: 0.0658 - accuracy: 0.9773\n",
      "Epoch 33/100\n",
      "24/24 [==============================] - 0s 15ms/step - loss: 0.0588 - accuracy: 0.9813\n",
      "Epoch 34/100\n",
      "24/24 [==============================] - 0s 14ms/step - loss: 0.0421 - accuracy: 0.9867\n",
      "Epoch 35/100\n",
      "24/24 [==============================] - 0s 15ms/step - loss: 0.0302 - accuracy: 0.9893\n",
      "Epoch 36/100\n",
      "24/24 [==============================] - 0s 14ms/step - loss: 0.0320 - accuracy: 0.9840\n",
      "Epoch 37/100\n",
      "24/24 [==============================] - 0s 14ms/step - loss: 0.0606 - accuracy: 0.9800\n",
      "Epoch 38/100\n",
      "24/24 [==============================] - 0s 14ms/step - loss: 0.0479 - accuracy: 0.9840\n",
      "Epoch 39/100\n",
      "24/24 [==============================] - 0s 14ms/step - loss: 0.0483 - accuracy: 0.9800\n",
      "Epoch 40/100\n",
      "24/24 [==============================] - 0s 15ms/step - loss: 0.0479 - accuracy: 0.9853\n",
      "Epoch 41/100\n",
      "24/24 [==============================] - 0s 15ms/step - loss: 0.0296 - accuracy: 0.9907\n",
      "Epoch 42/100\n",
      "24/24 [==============================] - 0s 14ms/step - loss: 0.0469 - accuracy: 0.9853\n",
      "Epoch 43/100\n",
      "24/24 [==============================] - 0s 15ms/step - loss: 0.0448 - accuracy: 0.9853\n",
      "Epoch 44/100\n",
      "24/24 [==============================] - 0s 14ms/step - loss: 0.0623 - accuracy: 0.9800\n",
      "Epoch 45/100\n",
      "24/24 [==============================] - 0s 14ms/step - loss: 0.0443 - accuracy: 0.9867\n",
      "Epoch 46/100\n",
      "24/24 [==============================] - 0s 15ms/step - loss: 0.0305 - accuracy: 0.9893\n",
      "Epoch 47/100\n",
      "24/24 [==============================] - 0s 14ms/step - loss: 0.0455 - accuracy: 0.9880\n",
      "Epoch 48/100\n",
      "24/24 [==============================] - 0s 14ms/step - loss: 0.0672 - accuracy: 0.9800\n",
      "Epoch 49/100\n",
      "24/24 [==============================] - 0s 15ms/step - loss: 0.0419 - accuracy: 0.9827\n",
      "Epoch 50/100\n",
      "24/24 [==============================] - 0s 14ms/step - loss: 0.0545 - accuracy: 0.9827\n",
      "Epoch 51/100\n",
      "24/24 [==============================] - 0s 15ms/step - loss: 0.0367 - accuracy: 0.9840\n",
      "Epoch 52/100\n",
      "24/24 [==============================] - 0s 14ms/step - loss: 0.0550 - accuracy: 0.9840\n",
      "Epoch 53/100\n",
      "24/24 [==============================] - 0s 15ms/step - loss: 0.0389 - accuracy: 0.9867\n",
      "Epoch 54/100\n",
      "24/24 [==============================] - 0s 14ms/step - loss: 0.0226 - accuracy: 0.9920\n",
      "Epoch 55/100\n",
      "24/24 [==============================] - 0s 14ms/step - loss: 0.0416 - accuracy: 0.9853\n",
      "Epoch 56/100\n",
      "24/24 [==============================] - 0s 14ms/step - loss: 0.0406 - accuracy: 0.9893\n",
      "Epoch 57/100\n",
      "24/24 [==============================] - 0s 15ms/step - loss: 0.0200 - accuracy: 0.9960\n",
      "Epoch 58/100\n",
      "24/24 [==============================] - 0s 15ms/step - loss: 0.0325 - accuracy: 0.9893\n",
      "Epoch 59/100\n",
      "24/24 [==============================] - 0s 14ms/step - loss: 0.0346 - accuracy: 0.9867\n",
      "Epoch 60/100\n",
      "24/24 [==============================] - 0s 16ms/step - loss: 0.0583 - accuracy: 0.9800\n",
      "Epoch 61/100\n",
      "24/24 [==============================] - 0s 15ms/step - loss: 0.0349 - accuracy: 0.9880\n",
      "Epoch 62/100\n",
      "24/24 [==============================] - 0s 16ms/step - loss: 0.0167 - accuracy: 0.9947\n",
      "Epoch 63/100\n",
      "24/24 [==============================] - 0s 14ms/step - loss: 0.0294 - accuracy: 0.9907\n",
      "Epoch 64/100\n",
      "24/24 [==============================] - 0s 15ms/step - loss: 0.0269 - accuracy: 0.9907\n",
      "Epoch 65/100\n",
      "24/24 [==============================] - 0s 14ms/step - loss: 0.0515 - accuracy: 0.9800\n",
      "Epoch 66/100\n",
      "24/24 [==============================] - 0s 15ms/step - loss: 0.0484 - accuracy: 0.9867\n",
      "Epoch 67/100\n",
      "24/24 [==============================] - 0s 14ms/step - loss: 0.0323 - accuracy: 0.9893\n",
      "Epoch 68/100\n",
      "24/24 [==============================] - 0s 14ms/step - loss: 0.0277 - accuracy: 0.9880\n",
      "Epoch 69/100\n",
      "24/24 [==============================] - 0s 13ms/step - loss: 0.0173 - accuracy: 0.9947\n",
      "Epoch 70/100\n",
      "24/24 [==============================] - 0s 14ms/step - loss: 0.0382 - accuracy: 0.9920\n",
      "Epoch 71/100\n",
      "24/24 [==============================] - 0s 15ms/step - loss: 0.0208 - accuracy: 0.9920\n",
      "Epoch 72/100\n",
      "24/24 [==============================] - 0s 14ms/step - loss: 0.0274 - accuracy: 0.9893\n",
      "Epoch 73/100\n",
      "24/24 [==============================] - 0s 14ms/step - loss: 0.0340 - accuracy: 0.9907\n",
      "Epoch 74/100\n",
      "24/24 [==============================] - 0s 14ms/step - loss: 0.0225 - accuracy: 0.9907\n",
      "Epoch 75/100\n",
      "24/24 [==============================] - 0s 14ms/step - loss: 0.0373 - accuracy: 0.9840\n",
      "Epoch 76/100\n",
      "24/24 [==============================] - 0s 14ms/step - loss: 0.0430 - accuracy: 0.9827\n",
      "Epoch 77/100\n",
      "24/24 [==============================] - 0s 14ms/step - loss: 0.0187 - accuracy: 0.9960\n",
      "Epoch 78/100\n",
      "24/24 [==============================] - 0s 14ms/step - loss: 0.0128 - accuracy: 0.9947\n",
      "Epoch 79/100\n",
      "24/24 [==============================] - 0s 15ms/step - loss: 0.0273 - accuracy: 0.9920\n",
      "Epoch 80/100\n",
      "24/24 [==============================] - 0s 15ms/step - loss: 0.0181 - accuracy: 0.9933\n",
      "Epoch 81/100\n",
      "24/24 [==============================] - 0s 16ms/step - loss: 0.0301 - accuracy: 0.9907\n",
      "Epoch 82/100\n",
      "24/24 [==============================] - 1s 24ms/step - loss: 0.0260 - accuracy: 0.9933\n",
      "Epoch 83/100\n",
      "24/24 [==============================] - 1s 24ms/step - loss: 0.0285 - accuracy: 0.9893\n",
      "Epoch 84/100\n",
      "24/24 [==============================] - 1s 24ms/step - loss: 0.0291 - accuracy: 0.9920\n",
      "Epoch 85/100\n",
      "24/24 [==============================] - 1s 23ms/step - loss: 0.0374 - accuracy: 0.9867\n",
      "Epoch 86/100\n",
      "24/24 [==============================] - 1s 24ms/step - loss: 0.0493 - accuracy: 0.9800\n",
      "Epoch 87/100\n",
      "24/24 [==============================] - 1s 23ms/step - loss: 0.0237 - accuracy: 0.9947\n",
      "Epoch 88/100\n",
      "24/24 [==============================] - 1s 27ms/step - loss: 0.0311 - accuracy: 0.9907\n",
      "Epoch 89/100\n",
      "24/24 [==============================] - 1s 23ms/step - loss: 0.0309 - accuracy: 0.9907\n",
      "Epoch 90/100\n",
      "24/24 [==============================] - 1s 26ms/step - loss: 0.0399 - accuracy: 0.9787\n",
      "Epoch 91/100\n",
      "24/24 [==============================] - 1s 26ms/step - loss: 0.0490 - accuracy: 0.9867\n",
      "Epoch 92/100\n",
      "24/24 [==============================] - 1s 23ms/step - loss: 0.0271 - accuracy: 0.9880\n",
      "Epoch 93/100\n",
      "24/24 [==============================] - 1s 23ms/step - loss: 0.0234 - accuracy: 0.9947\n",
      "Epoch 94/100\n",
      "24/24 [==============================] - 1s 23ms/step - loss: 0.0338 - accuracy: 0.9840\n",
      "Epoch 95/100\n",
      "24/24 [==============================] - 0s 18ms/step - loss: 0.0263 - accuracy: 0.9907\n",
      "Epoch 96/100\n",
      "24/24 [==============================] - 0s 15ms/step - loss: 0.0224 - accuracy: 0.9907\n",
      "Epoch 97/100\n",
      "24/24 [==============================] - 0s 15ms/step - loss: 0.0515 - accuracy: 0.9787\n",
      "Epoch 98/100\n",
      "24/24 [==============================] - 0s 14ms/step - loss: 0.0227 - accuracy: 0.9893\n",
      "Epoch 99/100\n",
      "24/24 [==============================] - 0s 15ms/step - loss: 0.0485 - accuracy: 0.9893\n",
      "Epoch 100/100\n",
      "24/24 [==============================] - 0s 14ms/step - loss: 0.0133 - accuracy: 0.9973\n"
     ]
    }
   ],
   "source": [
    "history=model.fit(X_train,y_train,epochs=100)"
   ]
  },
  {
   "cell_type": "code",
   "execution_count": null,
   "metadata": {
    "colab": {
     "base_uri": "https://localhost:8080/",
     "height": 265
    },
    "id": "UcarlRg3wGZo",
    "outputId": "9216dcf0-a3d1-4c87-b405-4e61abd1532c"
   },
   "outputs": [
    {
     "data": {
      "image/png": "[encoded data removed]",
      "text/plain": [
       "<Figure size 432x288 with 1 Axes>"
      ]
     },
     "metadata": {
      "needs_background": "light"
     },
     "output_type": "display_data"
    }
   ],
   "source": [
    "import matplotlib.pyplot as plt\n",
    "plt.plot(history.history['accuracy'])\n",
    "plt.plot(history.history['loss'])\n",
    "plt.show()"
   ]
  },
  {
   "cell_type": "code",
   "execution_count": null,
   "metadata": {
    "colab": {
     "base_uri": "https://localhost:8080/"
    },
    "id": "oAFTHWazwn-_",
    "outputId": "075bbb22-e0f4-4e70-c978-b2b7ffa5e34f"
   },
   "outputs": [
    {
     "name": "stdout",
     "output_type": "stream",
     "text": [
      "8/8 [==============================] - 0s 4ms/step - loss: 1.1066 - accuracy: 0.8040\n"
     ]
    }
   ],
   "source": [
    "hist=model.evaluate(X_test,y_test)"
   ]
  },
  {
   "cell_type": "code",
   "execution_count": null,
   "metadata": {
    "colab": {
     "base_uri": "https://localhost:8080/"
    },
    "id": "EUQt7WLHxlFZ",
    "outputId": "425de6cc-662f-40f5-fbcc-be5369cacc44"
   },
   "outputs": [
    {
     "name": "stdout",
     "output_type": "stream",
     "text": [
      "[1.106600046157837, 0.8040000200271606]\n"
     ]
    }
   ],
   "source": [
    "print(hist)"
   ]
  },
  {
   "cell_type": "markdown",
   "metadata": {
    "id": "AJP-63ksx9EJ"
   },
   "source": [
    "**Pack Everything Together** "
   ]
  },
  {
   "cell_type": "code",
   "execution_count": null,
   "metadata": {
    "id": "rzY2D1CByEDo"
   },
   "outputs": [],
   "source": [
    "def mlp():\n",
    "  model=Sequential()\n",
    "  model.add(Dense(512,input_shape=(X_train.shape[1],),activation='sigmoid'))\n",
    "  model.add(Dropout(0.2))\n",
    "  model.add(BatchNormalization())\n",
    "  model.add(Dense(256,activation='sigmoid'))\n",
    "  model.add(Dropout(0.2))\n",
    "  model.add(BatchNormalization())\n",
    "  model.add(Dense(256,activation='sigmoid'))\n",
    "  model.add(Dropout(0.2))\n",
    "  model.add(BatchNormalization())\n",
    "  model.add(Dense(256,activation='sigmoid'))\n",
    "  model.add(Dropout(0.2))\n",
    "  model.add(BatchNormalization())\n",
    "  model.add(Dense(2,activation='softmax'))\n",
    "  opt=tf.keras.optimizers.Adam(learning_rate=0.001)\n",
    "  model.compile(optimizer=opt,loss='binary_crossentropy',metrics=['accuracy'])\n",
    "  return model\n"
   ]
  },
  {
   "cell_type": "code",
   "execution_count": null,
   "metadata": {
    "colab": {
     "base_uri": "https://localhost:8080/"
    },
    "id": "JmytXUdyw7mz",
    "outputId": "b9a9c5ec-b298-4a05-c7e9-bbbdbab6c5a3"
   },
   "outputs": [
    {
     "name": "stderr",
     "output_type": "stream",
     "text": [
      "/usr/local/lib/python3.7/dist-packages/tensorflow/python/framework/indexed_slices.py:446: UserWarning: Converting sparse IndexedSlices(IndexedSlices(indices=Tensor(\"gradient_tape/sequential_23/dense_79/embedding_lookup_sparse/Reshape_1:0\", shape=(None,), dtype=int32), values=Tensor(\"gradient_tape/sequential_23/dense_79/embedding_lookup_sparse/Reshape:0\", shape=(None, 512), dtype=float32), dense_shape=Tensor(\"gradient_tape/sequential_23/dense_79/embedding_lookup_sparse/Cast:0\", shape=(2,), dtype=int32))) to a dense Tensor of unknown shape. This may consume a large amount of memory.\n",
      "  \"shape. This may consume a large amount of memory.\" % value)\n"
     ]
    },
    {
     "name": "stdout",
     "output_type": "stream",
     "text": [
      "8/8 [==============================] - 0s 4ms/step - loss: 1.1049 - accuracy: 0.7840\n",
      "Accuracy for yelp data: 0.7840\n"
     ]
    },
    {
     "name": "stderr",
     "output_type": "stream",
     "text": [
      "/usr/local/lib/python3.7/dist-packages/tensorflow/python/framework/indexed_slices.py:446: UserWarning: Converting sparse IndexedSlices(IndexedSlices(indices=Tensor(\"gradient_tape/sequential_24/dense_84/embedding_lookup_sparse/Reshape_1:0\", shape=(None,), dtype=int32), values=Tensor(\"gradient_tape/sequential_24/dense_84/embedding_lookup_sparse/Reshape:0\", shape=(None, 512), dtype=float32), dense_shape=Tensor(\"gradient_tape/sequential_24/dense_84/embedding_lookup_sparse/Cast:0\", shape=(2,), dtype=int32))) to a dense Tensor of unknown shape. This may consume a large amount of memory.\n",
      "  \"shape. This may consume a large amount of memory.\" % value)\n"
     ]
    },
    {
     "name": "stdout",
     "output_type": "stream",
     "text": [
      "8/8 [==============================] - 0s 3ms/step - loss: 1.2621 - accuracy: 0.7720\n",
      "Accuracy for amazon data: 0.7720\n"
     ]
    },
    {
     "name": "stderr",
     "output_type": "stream",
     "text": [
      "/usr/local/lib/python3.7/dist-packages/tensorflow/python/framework/indexed_slices.py:446: UserWarning: Converting sparse IndexedSlices(IndexedSlices(indices=Tensor(\"gradient_tape/sequential_25/dense_89/embedding_lookup_sparse/Reshape_1:0\", shape=(None,), dtype=int32), values=Tensor(\"gradient_tape/sequential_25/dense_89/embedding_lookup_sparse/Reshape:0\", shape=(None, 512), dtype=float32), dense_shape=Tensor(\"gradient_tape/sequential_25/dense_89/embedding_lookup_sparse/Cast:0\", shape=(2,), dtype=int32))) to a dense Tensor of unknown shape. This may consume a large amount of memory.\n",
      "  \"shape. This may consume a large amount of memory.\" % value)\n"
     ]
    },
    {
     "name": "stdout",
     "output_type": "stream",
     "text": [
      "6/6 [==============================] - 0s 4ms/step - loss: 1.6423 - accuracy: 0.7701\n",
      "Accuracy for imdb data: 0.7701\n"
     ]
    }
   ],
   "source": [
    "for source in df['source'].unique():\n",
    "    df_source = df[df['source'] == source]\n",
    "    sentences = df_source['sentence'].values\n",
    "    y = df_source['label'].values\n",
    "\n",
    "    sentences_train, sentences_test, y_train, y_test = train_test_split(\n",
    "        sentences, y, test_size=0.25, random_state=1000)\n",
    "\n",
    "    vectorizer = CountVectorizer()\n",
    "    vectorizer.fit(sentences_train)\n",
    "    X_train = vectorizer.transform(sentences_train)\n",
    "    X_test  = vectorizer.transform(sentences_test)\n",
    "    y_train = to_categorical(y_train)\n",
    "    y_test = to_categorical(y_test)\n",
    "    classifier = mlp()\n",
    "    classifier.fit(X_train, y_train,epochs=100,verbose=0)\n",
    "    score = classifier.evaluate(X_test, y_test)\n",
    "    print('Accuracy for {} data: {:.4f}'.format(source, score[1]))\n",
    "    #print('Loss for {} data: {:.4f}'.format(source, score[0]))"
   ]
  },
  {
   "cell_type": "code",
   "execution_count": null,
   "metadata": {
    "colab": {
     "base_uri": "https://localhost:8080/"
    },
    "id": "dwgyXIauzdrX",
    "outputId": "7f51892e-f1c2-4ecf-c916-53727c90726b"
   },
   "outputs": [
    {
     "name": "stdout",
     "output_type": "stream",
     "text": [
      "Accuracy for yelp data: 0.7840\n",
      "Accuracy for amazon data: 0.7720\n",
      "Accuracy for imdb data: 0.7701\n"
     ]
    }
   ],
   "source": [
    "print('Accuracy for yelp data: 0.7840')\n",
    "print('Accuracy for amazon data: 0.7720')\n",
    "print('Accuracy for imdb data: 0.7701')"
   ]
  }
 ],
 "metadata": {
  "colab": {
   "collapsed_sections": [],
   "name": "MLP_sentiment_analysis_usecase.ipynb",
   "provenance": []
  },
  "kernelspec": {
   "display_name": "Python 3 (ipykernel)",
   "language": "python",
   "name": "python3"
  },
  "language_info": {
   "codemirror_mode": {
    "name": "ipython",
    "version": 3
   },
   "file_extension": ".py",
   "mimetype": "text/x-python",
   "name": "python",
   "nbconvert_exporter": "python",
   "pygments_lexer": "ipython3",
   "version": "3.11.7"
  }
 },
 "nbformat": 4,
 "nbformat_minor": 1
}
